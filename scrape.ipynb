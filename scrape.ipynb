{
 "cells": [
  {
   "cell_type": "code",
   "execution_count": 14,
   "id": "780864a0-e29c-4844-84bf-f65d326e504d",
   "metadata": {},
   "outputs": [],
   "source": [
    "import pandas as pd\n",
    "import requests\n",
    "from datetime import datetime"
   ]
  },
  {
   "cell_type": "code",
   "execution_count": 2,
   "id": "39bae087-9fd2-44c5-a6dc-1461954c448b",
   "metadata": {},
   "outputs": [],
   "source": [
    "url = 'https://www.udi.no/statistikk-og-analyse/statistikk/registrerte-asylsoknader-fra-ukrainske-borgere-de-siste-syv-dager-2022'"
   ]
  },
  {
   "cell_type": "code",
   "execution_count": 8,
   "id": "31da772e-9a62-455b-98d0-673b6179b43f",
   "metadata": {},
   "outputs": [
    {
     "data": {
      "text/html": [
       "<div>\n",
       "<style scoped>\n",
       "    .dataframe tbody tr th:only-of-type {\n",
       "        vertical-align: middle;\n",
       "    }\n",
       "\n",
       "    .dataframe tbody tr th {\n",
       "        vertical-align: top;\n",
       "    }\n",
       "\n",
       "    .dataframe thead th {\n",
       "        text-align: right;\n",
       "    }\n",
       "</style>\n",
       "<table border=\"1\" class=\"dataframe\">\n",
       "  <thead>\n",
       "    <tr style=\"text-align: right;\">\n",
       "      <th></th>\n",
       "      <th>Registreringsdato</th>\n",
       "      <th>Antall søknader</th>\n",
       "    </tr>\n",
       "  </thead>\n",
       "  <tbody>\n",
       "    <tr>\n",
       "      <th>0</th>\n",
       "      <td>07.03.2022</td>\n",
       "      <td>108</td>\n",
       "    </tr>\n",
       "    <tr>\n",
       "      <th>1</th>\n",
       "      <td>06.03.2022</td>\n",
       "      <td>179</td>\n",
       "    </tr>\n",
       "    <tr>\n",
       "      <th>2</th>\n",
       "      <td>05.03.2022</td>\n",
       "      <td>131</td>\n",
       "    </tr>\n",
       "    <tr>\n",
       "      <th>3</th>\n",
       "      <td>04.03.2022</td>\n",
       "      <td>141</td>\n",
       "    </tr>\n",
       "    <tr>\n",
       "      <th>4</th>\n",
       "      <td>03.03.2022</td>\n",
       "      <td>116</td>\n",
       "    </tr>\n",
       "    <tr>\n",
       "      <th>5</th>\n",
       "      <td>02.03.2022</td>\n",
       "      <td>70</td>\n",
       "    </tr>\n",
       "    <tr>\n",
       "      <th>6</th>\n",
       "      <td>01.03.2022</td>\n",
       "      <td>27</td>\n",
       "    </tr>\n",
       "  </tbody>\n",
       "</table>\n",
       "</div>"
      ],
      "text/plain": [
       "  Registreringsdato  Antall søknader\n",
       "0        07.03.2022              108\n",
       "1        06.03.2022              179\n",
       "2        05.03.2022              131\n",
       "3        04.03.2022              141\n",
       "4        03.03.2022              116\n",
       "5        02.03.2022               70\n",
       "6        01.03.2022               27"
      ]
     },
     "execution_count": 8,
     "metadata": {},
     "output_type": "execute_result"
    }
   ],
   "source": [
    "table = pd.read_html(url, attrs={ \"id\": \"table-id\" }, thousands=\" \")[0]\n",
    "table"
   ]
  },
  {
   "cell_type": "code",
   "execution_count": 11,
   "id": "a8b3b5dc-2a82-4cc0-84be-7e496a08e514",
   "metadata": {},
   "outputs": [],
   "source": [
    "table['date'] = pd.to_datetime(table['Registreringsdato'], format='%d.%m.%Y')"
   ]
  },
  {
   "cell_type": "raw",
   "id": "54578324-9876-4665-b1f2-21d2b676e9d8",
   "metadata": {},
   "source": [
    "months = {\n",
    "    'januar': '01',\n",
    "    'februar': '02',\n",
    "    'mars': '03',\n",
    "    'april': '04',\n",
    "    'mai': '05',\n",
    "    'juni': '06',\n",
    "    'juli': '07',\n",
    "    'august': '08',\n",
    "    'september': '09',\n",
    "    'oktober': '10',\n",
    "    'november': '11',\n",
    "    'desember': '12',\n",
    "}\n",
    "\n",
    "table[['month', 'date']] = table['Registreringsdato'].str.split(' ', expand=True)\n",
    "table.date = table.date.str.replace('.', '', regex=False)\n",
    "table.month = table.month.replace(months)\n",
    "table['year'] = '2022'\n",
    "\n",
    "table.date = table.year + '-' + table.month + '-' + table.date.str.zfill(2)\n",
    "table.date = pd.to_datetime(table.date)"
   ]
  },
  {
   "cell_type": "code",
   "execution_count": 12,
   "id": "a3cd1c0f-50f2-4f0c-a945-b2c6db8569a5",
   "metadata": {},
   "outputs": [],
   "source": [
    "series = table.set_index('date')['Antall søknader'].sort_index()"
   ]
  },
  {
   "cell_type": "code",
   "execution_count": 21,
   "id": "39be6570-c338-45be-ba60-834d47ff85e5",
   "metadata": {},
   "outputs": [],
   "source": [
    "today = datetime.today().strftime('%Y-%m-%d')\n",
    "series.to_frame('applications').to_csv(f'data/{today}.csv')"
   ]
  },
  {
   "cell_type": "code",
   "execution_count": 24,
   "id": "fd5c6308-b297-449e-acb3-2429723e6401",
   "metadata": {},
   "outputs": [
    {
     "name": "stdout",
     "output_type": "stream",
     "text": [
      "Got data for 2022-03-08\n"
     ]
    },
    {
     "data": {
      "image/png": "[encoded data removed]",
      "text/plain": [
       "<Figure size 432x288 with 1 Axes>"
      ]
     },
     "metadata": {
      "needs_background": "light"
     },
     "output_type": "display_data"
    }
   ],
   "source": [
    "series.plot.bar()\n",
    "print(f'Got data for {today}')"
   ]
  }
 ],
 "metadata": {
  "kernelspec": {
   "display_name": "Python 3 (ipykernel)",
   "language": "python",
   "name": "python3"
  },
  "language_info": {
   "codemirror_mode": {
    "name": "ipython",
    "version": 3
   },
   "file_extension": ".py",
   "mimetype": "text/x-python",
   "name": "python",
   "nbconvert_exporter": "python",
   "pygments_lexer": "ipython3",
   "version": "3.9.10"
  }
 },
 "nbformat": 4,
 "nbformat_minor": 5
}
